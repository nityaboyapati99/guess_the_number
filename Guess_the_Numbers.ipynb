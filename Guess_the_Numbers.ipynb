{
  "nbformat": 4,
  "nbformat_minor": 0,
  "metadata": {
    "colab": {
      "provenance": [],
      "include_colab_link": true
    },
    "kernelspec": {
      "name": "python3",
      "display_name": "Python 3"
    },
    "language_info": {
      "name": "python"
    }
  },
  "cells": [
    {
      "cell_type": "markdown",
      "metadata": {
        "id": "view-in-github",
        "colab_type": "text"
      },
      "source": [
        "<a href=\"https://colab.research.google.com/github/nityaboyapati99/guess_the_number/blob/main/Guess_the_Numbers.ipynb\" target=\"_parent\"><img src=\"https://colab.research.google.com/assets/colab-badge.svg\" alt=\"Open In Colab\"/></a>"
      ]
    },
    {
      "cell_type": "code",
      "source": [
        "import random #random library is used to generate random numbers\n",
        "import math # # math library is for providing standard mathematical constants and functions\n",
        "\n",
        "# step1: take input of lower and upper value\n",
        "level = int(input(\"Choose your level from 1-4: \"))\n",
        "if level==1:\n",
        "  lowest_num=0\n",
        "  highest_num=10\n",
        "elif level==2:\n",
        "  lowest_num=0\n",
        "  highest_num=50\n",
        "elif level==3:\n",
        "  lowest_num=0\n",
        "  highest_num=100\n",
        "else:\n",
        "  lowest_num = 0\n",
        "  highest_num = 300\n",
        "\n",
        "#step2: generate randomn number\n",
        "x = random.randint(lowest_num, highest_num)\n",
        "\n",
        "print(\"\\n\\tYou've only \",\n",
        "       round(math.log(highest_num - lowest_num + 1, 2)),\n",
        "      \" chances to guess the integer!\\n\")\n",
        "\n",
        "# Initializing the number of guesses.\n",
        "guess_no = 0\n",
        "\n",
        "# for calculation of minimum number of guesses depends upon range\n",
        "while guess_no < math.log(highest_num - lowest_num  + 1, 2):\n",
        "    guess_no += 1\n",
        "\n",
        "\n",
        "    guess = int(input(\"Guess a number:- \"))\n",
        "\n",
        "    print(\"\\n\\tYou've only \",\n",
        "       round(math.log(highest_num - lowest_num + 1, 2)),\n",
        "      \" chances to guess the integer!\\n\")\n",
        "\n",
        "# Using if, elif\n",
        "    if x == guess:\n",
        "        print(\"Congratulations!!!! you did it in \",\n",
        "              guess_no, \" try\")\n",
        "\n",
        "        break\n",
        "    elif x > guess:\n",
        "        print(\"You guessed too small!\")\n",
        "    elif x < guess:\n",
        "        print(\"You Guessed too high!\")\n",
        "\n",
        "\n",
        "if guess_no >= math.log(highest_num - lowest_num + 1, 2):\n",
        "    print(\"\\nThe number is %d\" % x)\n",
        "    print(\"\\tBetter Luck Next time!\")"
      ],
      "metadata": {
        "colab": {
          "base_uri": "https://localhost:8080/"
        },
        "id": "Ks47jkjnSYn0",
        "outputId": "c626e8ff-7f05-43cf-eaa5-a531963ba593"
      },
      "execution_count": 9,
      "outputs": [
        {
          "output_type": "stream",
          "name": "stdout",
          "text": [
            "Choose your level from 1-4: 3\n",
            "\n",
            "\tYou've only  7  chances to guess the integer!\n",
            "\n",
            "Guess a number:- 50\n",
            "\n",
            "\tYou've only  7  chances to guess the integer!\n",
            "\n",
            "You Guessed too high!\n",
            "Guess a number:- 25\n",
            "\n",
            "\tYou've only  7  chances to guess the integer!\n",
            "\n",
            "You Guessed too high!\n",
            "Guess a number:- 10\n",
            "\n",
            "\tYou've only  7  chances to guess the integer!\n",
            "\n",
            "You guessed too small!\n",
            "Guess a number:- 15\n",
            "\n",
            "\tYou've only  7  chances to guess the integer!\n",
            "\n",
            "You Guessed too high!\n",
            "Guess a number:- 13\n",
            "\n",
            "\tYou've only  7  chances to guess the integer!\n",
            "\n",
            "Congratulations!!!! you did it in  5  try\n"
          ]
        }
      ]
    },
    {
      "cell_type": "code",
      "source": [],
      "metadata": {
        "id": "Nr3NPtD8Uu7r"
      },
      "execution_count": null,
      "outputs": []
    }
  ]
}